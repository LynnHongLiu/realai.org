{
 "cells": [
  {
   "cell_type": "markdown",
   "metadata": {},
   "source": [
    "# Lab - Reading MNIST Data\n",
    "\n",
    "*Last Updated: August 7, 2017*\n",
    "\n",
    "* **Prerequisite:** [Jupyter Notebook](http://realai.org/course/jupyter/) running on a [Python 3](http://realai.org/course/python/) kernel with packages [NumPy](http://www.numpy.org/) and [Matplotlib](https://matplotlib.org/). An installation of Jupyter on [Google Compute Engine](http://realai.org/course/GCE/) following [these steps](http://realai.org/course/GCE/jupyter/), including the optional steps at the end, satisfies these requirements.\n",
    "* **Source:** [Download](http://realai.org/course/jupyter/reading-MNIST-data.ipynb) the `.ipynb` file or [view on GitHub](https://github.com/real-ai/realai.org/blob/master/course/jupyter/reading-MNIST-data.ipynb)."
   ]
  },
  {
   "cell_type": "markdown",
   "metadata": {},
   "source": [
    "The [MNIST database of handwritten digits](http://yann.lecun.com/exdb/mnist/) is a popular database for basic machine learning exercises. It contains greyscale 28x28 images split into a training set of 60,000 examples and a test set of 10,000 examples. The training images are contained in a compressed file available at [http://yann.lecun.com/exdb/mnist/train-images-idx3-ubyte.gz](http://yann.lecun.com/exdb/mnist/train-images-idx3-ubyte.gz). To get this file, we need to access the Internet from Python, so we import the [urllib.request](https://docs.python.org/3/library/urllib.request.html) module, which is a component of the [Python Standard Library](https://docs.python.org/3/library/index.html):"
   ]
  },
  {
   "cell_type": "code",
   "execution_count": 1,
   "metadata": {
    "collapsed": true
   },
   "outputs": [],
   "source": [
    "import urllib.request"
   ]
  },
  {
   "cell_type": "markdown",
   "metadata": {},
   "source": [
    "Use the function [urlopen](https://docs.python.org/3/library/urllib.request.html#urllib.request.urlopen) To open the URL:"
   ]
  },
  {
   "cell_type": "code",
   "execution_count": 2,
   "metadata": {
    "collapsed": true
   },
   "outputs": [],
   "source": [
    "tmp_HR = urllib.request.urlopen(\"http://yann.lecun.com/exdb/mnist/train-images-idx3-ubyte.gz\")"
   ]
  },
  {
   "cell_type": "markdown",
   "metadata": {},
   "source": [
    "Check our [http.client.HTTPResponse](https://docs.python.org/3/library/http.client.html#http.client.HTTPResponse) object to see if the request was successful:"
   ]
  },
  {
   "cell_type": "code",
   "execution_count": 3,
   "metadata": {},
   "outputs": [
    {
     "name": "stdout",
     "output_type": "stream",
     "text": [
      "200 OK\n"
     ]
    }
   ],
   "source": [
    "print(tmp_HR.status, tmp_HR.reason)"
   ]
  },
  {
   "cell_type": "markdown",
   "metadata": {},
   "source": [
    "Let's [open](https://docs.python.org/3.5/library/functions.html#open) a temporary file to store the data locally. `w+b` here means opening a disk file (`+`) for writing (`w`) in binary (`b`) mode:"
   ]
  },
  {
   "cell_type": "code",
   "execution_count": 4,
   "metadata": {
    "collapsed": true
   },
   "outputs": [],
   "source": [
    "f = open(\"tmp_MNIST_train_images.gz\", \"w+b\")"
   ]
  },
  {
   "cell_type": "markdown",
   "metadata": {},
   "source": [
    "Read data from our online request and write it to the file:"
   ]
  },
  {
   "cell_type": "code",
   "execution_count": 5,
   "metadata": {
    "collapsed": true
   },
   "outputs": [],
   "source": [
    "f.write(tmp_HR.read())\n",
    "f.close()"
   ]
  },
  {
   "cell_type": "markdown",
   "metadata": {},
   "source": [
    "We should have a file named \"tmp_MNIST_train_images.gz\" in our home directory, Use the [subprocess](https://docs.python.org/3.5/library/subprocess.html) module to call shell command `ls` and [check_output](https://docs.python.org/3.5/library/subprocess.html#subprocess.check_output) to confirm that a file of a decent size is there:"
   ]
  },
  {
   "cell_type": "code",
   "execution_count": 6,
   "metadata": {},
   "outputs": [
    {
     "data": {
      "text/plain": [
       "b'-rw-rw-r-- 1 jyan jyan 9912422 Aug  7 09:34 tmp_MNIST_train_images.gz\\n'"
      ]
     },
     "execution_count": 6,
     "metadata": {},
     "output_type": "execute_result"
    }
   ],
   "source": [
    "import subprocess\n",
    "subprocess.check_output(\"ls -l tmp_MNIST_train_images.gz\", shell=True)"
   ]
  },
  {
   "cell_type": "markdown",
   "metadata": {},
   "source": [
    "We need to unzip it because it is a compressed file. There is a module for that, [gzip](https://docs.python.org/3.5/library/gzip.html):"
   ]
  },
  {
   "cell_type": "code",
   "execution_count": 7,
   "metadata": {
    "collapsed": true
   },
   "outputs": [],
   "source": [
    "import gzip\n",
    "f = gzip.open(\"tmp_MNIST_train_images.gz\", \"rb\")"
   ]
  },
  {
   "cell_type": "markdown",
   "metadata": {},
   "source": [
    "Let's [peek()](https://docs.python.org/3.5/library/gzip.html#gzip.GzipFile.peek) inside the file to see if we've done things correctly. The official description of the training set file says the first four bytes should be `00 00 08 03`:"
   ]
  },
  {
   "cell_type": "code",
   "execution_count": 8,
   "metadata": {},
   "outputs": [
    {
     "name": "stdout",
     "output_type": "stream",
     "text": [
      "b'\\x00\\x00\\x08\\x03'\n"
     ]
    }
   ],
   "source": [
    "print(f.peek(4)[0:4])"
   ]
  },
  {
   "cell_type": "markdown",
   "metadata": {},
   "source": [
    "Looks good! [Read()](https://docs.python.org/3.5/library/io.html#io.BufferedIOBase.read) the data into a [`bytes`](https://docs.python.org/3/library/stdtypes.html#bytes) object, then close the `GZipFile` object:"
   ]
  },
  {
   "cell_type": "code",
   "execution_count": 9,
   "metadata": {
    "collapsed": true
   },
   "outputs": [],
   "source": [
    "bytes_TrainImages = f.read()\n",
    "f.close()"
   ]
  },
  {
   "cell_type": "markdown",
   "metadata": {},
   "source": [
    "How many bytes have we read? According to the official description, we should have 4x4 + 60000x28x28 = 47040016 bytes."
   ]
  },
  {
   "cell_type": "code",
   "execution_count": 10,
   "metadata": {},
   "outputs": [
    {
     "data": {
      "text/plain": [
       "47040016"
      ]
     },
     "execution_count": 10,
     "metadata": {},
     "output_type": "execute_result"
    }
   ],
   "source": [
    "len(bytes_TrainImages)"
   ]
  },
  {
   "cell_type": "markdown",
   "metadata": {},
   "source": [
    "And the first 32 bits (4 bytes) should be the \"magic\" number 2051, useful for us to check that we're using the correct [byteorder](https://docs.python.org/3/library/sys.html#sys.byteorder):"
   ]
  },
  {
   "cell_type": "code",
   "execution_count": 11,
   "metadata": {},
   "outputs": [
    {
     "data": {
      "text/plain": [
       "2051"
      ]
     },
     "execution_count": 11,
     "metadata": {},
     "output_type": "execute_result"
    }
   ],
   "source": [
    "int.from_bytes(bytes_TrainImages[0:4], byteorder=\"big\")"
   ]
  },
  {
   "cell_type": "markdown",
   "metadata": {},
   "source": [
    "Read the numbers of images, rows and columns based on the official file description:"
   ]
  },
  {
   "cell_type": "code",
   "execution_count": 12,
   "metadata": {
    "collapsed": true
   },
   "outputs": [],
   "source": [
    "nImages = int.from_bytes(bytes_TrainImages[4:8], byteorder=\"big\")\n",
    "nRows = int.from_bytes(bytes_TrainImages[8:12], byteorder=\"big\")\n",
    "nCols = int.from_bytes(bytes_TrainImages[12:16], byteorder=\"big\")"
   ]
  },
  {
   "cell_type": "markdown",
   "metadata": {},
   "source": [
    "Print them out to check again, since we know what their values should be:"
   ]
  },
  {
   "cell_type": "code",
   "execution_count": 13,
   "metadata": {
    "scrolled": true
   },
   "outputs": [
    {
     "name": "stdout",
     "output_type": "stream",
     "text": [
      "60000 28 28\n"
     ]
    }
   ],
   "source": [
    "print(nImages, nRows, nCols)"
   ]
  },
  {
   "cell_type": "markdown",
   "metadata": {},
   "source": [
    "The images are currently stored in an immutable sequences of single bytes. We'd rather see an array of 60,000 images, each one being another 28x28 array. Convert the bytes data to a [`bytearray`](https://docs.python.org/3/library/stdtypes.html#bytearray), then we can use [numpy.reshape](https://docs.scipy.org/doc/numpy/reference/generated/numpy.reshape.html):"
   ]
  },
  {
   "cell_type": "code",
   "execution_count": 14,
   "metadata": {
    "collapsed": true
   },
   "outputs": [],
   "source": [
    "train_images = bytearray(bytes_TrainImages[16:])\n",
    "import numpy as np\n",
    "train_images = np.reshape(train_images, [nImages, nRows, nCols])"
   ]
  },
  {
   "cell_type": "markdown",
   "metadata": {},
   "source": [
    "The result of the conversion is a [`numpy.ndarray`](https://docs.scipy.org/doc/numpy/reference/generated/numpy.ndarray.html)."
   ]
  },
  {
   "cell_type": "code",
   "execution_count": 15,
   "metadata": {},
   "outputs": [
    {
     "data": {
      "text/plain": [
       "numpy.ndarray"
      ]
     },
     "execution_count": 15,
     "metadata": {},
     "output_type": "execute_result"
    }
   ],
   "source": [
    "type(train_images)"
   ]
  },
  {
   "cell_type": "markdown",
   "metadata": {},
   "source": [
    "[%matplotlib](http://ipython.readthedocs.io/en/stable/interactive/magics.html#magic-matplotlib) is a [built-in magic command](http://ipython.readthedocs.io/en/stable/interactive/magics.html) in Jupyter Notebook that allows us to see inline figures produced by Matplotlib:"
   ]
  },
  {
   "cell_type": "code",
   "execution_count": 16,
   "metadata": {
    "collapsed": true
   },
   "outputs": [],
   "source": [
    "%matplotlib inline"
   ]
  },
  {
   "cell_type": "markdown",
   "metadata": {},
   "source": [
    "Out of the 60,000 images, pick a lucky one, then use [pyplot.imshow](https://matplotlib.org/api/pyplot_api.html#matplotlib.pyplot.imshow) to take a look:"
   ]
  },
  {
   "cell_type": "code",
   "execution_count": 17,
   "metadata": {},
   "outputs": [
    {
     "data": {
      "text/plain": [
       "<matplotlib.image.AxesImage at 0x7f7facf97fd0>"
      ]
     },
     "execution_count": 17,
     "metadata": {},
     "output_type": "execute_result"
    },
    {
     "data": {
      "image/png": "[encoded data removed]",
      "text/plain": [
       "<matplotlib.figure.Figure at 0x7f7fd00e9668>"
      ]
     },
     "metadata": {},
     "output_type": "display_data"
    }
   ],
   "source": [
    "import matplotlib.pyplot as plt\n",
    "plt.imshow(train_images[8888])"
   ]
  },
  {
   "cell_type": "markdown",
   "metadata": {},
   "source": [
    "Having gone through the process of reading the image data, we can do this much more quickly with the labels. The [with](https://docs.python.org/3/reference/compound_stmts.html#with) statement is more commonly used to open file-like objects:"
   ]
  },
  {
   "cell_type": "code",
   "execution_count": 18,
   "metadata": {
    "collapsed": true
   },
   "outputs": [],
   "source": [
    "tmp_HR = urllib.request.urlopen(\"http://yann.lecun.com/exdb/mnist/train-labels-idx1-ubyte.gz\")\n",
    "with open(\"tmp_MNIST_train_labels.gz\", \"w+b\") as f:\n",
    "    f.write(tmp_HR.read())\n",
    "with gzip.open(\"tmp_MNIST_train_labels.gz\", \"rb\") as f:\n",
    "    bytes_TrainLabels = f.read()\n",
    "train_labels = bytearray(bytes_TrainLabels[8:])"
   ]
  },
  {
   "cell_type": "markdown",
   "metadata": {},
   "source": [
    "Did we get the labels right?"
   ]
  },
  {
   "cell_type": "code",
   "execution_count": 19,
   "metadata": {},
   "outputs": [
    {
     "data": {
      "text/plain": [
       "3"
      ]
     },
     "execution_count": 19,
     "metadata": {},
     "output_type": "execute_result"
    }
   ],
   "source": [
    "train_labels[8888]"
   ]
  }
 ],
 "metadata": {
  "kernelspec": {
   "display_name": "Python 3",
   "language": "python",
   "name": "python3"
  },
  "language_info": {
   "codemirror_mode": {
    "name": "ipython",
    "version": 3
   },
   "file_extension": ".py",
   "mimetype": "text/x-python",
   "name": "python",
   "nbconvert_exporter": "python",
   "pygments_lexer": "ipython3",
   "version": "3.5.2"
  }
 },
 "nbformat": 4,
 "nbformat_minor": 2
}
